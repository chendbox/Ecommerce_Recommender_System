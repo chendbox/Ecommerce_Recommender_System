{
 "cells": [
  {
   "cell_type": "markdown",
   "metadata": {},
   "source": [
    "## 1. Rules\n",
    "\n",
    "Consider the relation between order and cart\n",
    "\n",
    "behavior_type = 3与 order behavior_type = 4 connection？\n",
    "\n",
    "rule：in time T, the user will place order on items in the carts, the parameter T\n"
   ]
  },
  {
   "cell_type": "markdown",
   "metadata": {},
   "source": [
    "## 2. Data Analysis\n",
    "\n",
    "generate new data D_time = {<user_id, item_id, time_3, time_4>}"
   ]
  },
  {
   "cell_type": "code",
   "execution_count": 1,
   "metadata": {},
   "outputs": [],
   "source": [
    "item_path = \"/Users/DanDan/Desktop/第一课/code/fresh_comp_offline/tianchi_fresh_comp_train_item.csv\"\n",
    "user_path = \"/Users/DanDan/Desktop/第一课/code/fresh_comp_offline/tianchi_fresh_comp_train_user.csv\""
   ]
  },
  {
   "cell_type": "code",
   "execution_count": 2,
   "metadata": {},
   "outputs": [
    {
     "name": "stdout",
     "output_type": "stream",
     "text": [
      "chunk 1 done.\n",
      "chunk 2 done.\n",
      "chunk 3 done.\n",
      "chunk 4 done.\n",
      "chunk 5 done.\n",
      "chunk 6 done.\n",
      "chunk 7 done.\n",
      "chunk 8 done.\n",
      "chunk 9 done.\n",
      "chunk 10 done.\n",
      "chunk 11 done.\n",
      "chunk 12 done.\n",
      "chunk 13 done.\n",
      "chunk 14 done.\n",
      "chunk 15 done.\n",
      "chunk 16 done.\n",
      "chunk 17 done.\n",
      "chunk 18 done.\n",
      "chunk 19 done.\n",
      "chunk 20 done.\n",
      "chunk 21 done.\n",
      "chunk 22 done.\n",
      "chunk 23 done.\n",
      "chunk 24 done.\n",
      "chunk 25 done.\n",
      "chunk 26 done.\n",
      "chunk 27 done.\n",
      "chunk 28 done.\n",
      "chunk 29 done.\n",
      "chunk 30 done.\n",
      "chunk 31 done.\n",
      "chunk 32 done.\n",
      "chunk 33 done.\n",
      "chunk 34 done.\n",
      "chunk 35 done.\n",
      "chunk 36 done.\n",
      "chunk 37 done.\n",
      "chunk 38 done.\n",
      "chunk 39 done.\n",
      "chunk 40 done.\n",
      "chunk 41 done.\n",
      "chunk 42 done.\n",
      "chunk 43 done.\n",
      "chunk 44 done.\n",
      "chunk 45 done.\n",
      "chunk 46 done.\n",
      "chunk 47 done.\n",
      "chunk 48 done.\n",
      "chunk 49 done.\n",
      "chunk 50 done.\n",
      "chunk 51 done.\n",
      "chunk 52 done.\n",
      "chunk 53 done.\n",
      "chunk 54 done.\n",
      "chunk 55 done.\n",
      "chunk 56 done.\n",
      "chunk 57 done.\n",
      "chunk 58 done.\n",
      "chunk 59 done.\n",
      "chunk 60 done.\n",
      "chunk 61 done.\n",
      "chunk 62 done.\n",
      "chunk 63 done.\n",
      "chunk 64 done.\n",
      "chunk 65 done.\n",
      "chunk 66 done.\n",
      "chunk 67 done.\n",
      "chunk 68 done.\n",
      "chunk 69 done.\n",
      "chunk 70 done.\n",
      "chunk 71 done.\n",
      "chunk 72 done.\n",
      "chunk 73 done.\n",
      "chunk 74 done.\n",
      "chunk 75 done.\n",
      "chunk 76 done.\n",
      "chunk 77 done.\n",
      "chunk 78 done.\n",
      "chunk 79 done.\n",
      "chunk 80 done.\n",
      "chunk 81 done.\n",
      "chunk 82 done.\n",
      "chunk 83 done.\n",
      "chunk 84 done.\n",
      "chunk 85 done.\n",
      "chunk 86 done.\n",
      "chunk 87 done.\n",
      "chunk 88 done.\n",
      "chunk 89 done.\n",
      "chunk 90 done.\n",
      "chunk 91 done.\n",
      "chunk 92 done.\n",
      "chunk 93 done.\n",
      "chunk 94 done.\n",
      "chunk 95 done.\n",
      "chunk 96 done.\n",
      "chunk 97 done.\n",
      "chunk 98 done.\n",
      "chunk 99 done.\n",
      "chunk 100 done.\n",
      "chunk 101 done.\n",
      "chunk 102 done.\n",
      "chunk 103 done.\n",
      "chunk 104 done.\n",
      "chunk 105 done.\n",
      "chunk 106 done.\n",
      "chunk 107 done.\n",
      "chunk 108 done.\n",
      "chunk 109 done.\n",
      "chunk 110 done.\n",
      "chunk 111 done.\n",
      "chunk 112 done.\n",
      "chunk 113 done.\n",
      "chunk 114 done.\n",
      "chunk 115 done.\n",
      "chunk 116 done.\n",
      "chunk 117 done.\n",
      "chunk 118 done.\n",
      "chunk 119 done.\n",
      "chunk 120 done.\n",
      "chunk 121 done.\n",
      "chunk 122 done.\n",
      "chunk 123 done.\n",
      "chunk 124 done.\n",
      "chunk 125 done.\n",
      "chunk 126 done.\n",
      "chunk 127 done.\n",
      "chunk 128 done.\n",
      "chunk 129 done.\n",
      "chunk 130 done.\n",
      "chunk 131 done.\n",
      "chunk 132 done.\n",
      "chunk 133 done.\n",
      "chunk 134 done.\n",
      "chunk 135 done.\n",
      "chunk 136 done.\n",
      "chunk 137 done.\n",
      "chunk 138 done.\n",
      "chunk 139 done.\n",
      "chunk 140 done.\n",
      "chunk 141 done.\n",
      "chunk 142 done.\n",
      "chunk 143 done.\n",
      "chunk 144 done.\n",
      "chunk 145 done.\n",
      "chunk 146 done.\n",
      "chunk 147 done.\n",
      "chunk 148 done.\n",
      "chunk 149 done.\n",
      "chunk 150 done.\n",
      "chunk 151 done.\n",
      "chunk 152 done.\n",
      "chunk 153 done.\n",
      "chunk 154 done.\n",
      "chunk 155 done.\n",
      "chunk 156 done.\n",
      "chunk 157 done.\n",
      "chunk 158 done.\n",
      "chunk 159 done.\n",
      "chunk 160 done.\n",
      "chunk 161 done.\n",
      "chunk 162 done.\n",
      "chunk 163 done.\n",
      "chunk 164 done.\n",
      "chunk 165 done.\n",
      "chunk 166 done.\n",
      "chunk 167 done.\n",
      "chunk 168 done.\n",
      "chunk 169 done.\n",
      "chunk 170 done.\n",
      "chunk 171 done.\n",
      "chunk 172 done.\n",
      "chunk 173 done.\n",
      "chunk 174 done.\n",
      "chunk 175 done.\n",
      "chunk 176 done.\n",
      "chunk 177 done.\n",
      "chunk 178 done.\n",
      "chunk 179 done.\n",
      "chunk 180 done.\n",
      "chunk 181 done.\n",
      "chunk 182 done.\n",
      "chunk 183 done.\n",
      "chunk 184 done.\n",
      "chunk 185 done.\n",
      "chunk 186 done.\n",
      "chunk 187 done.\n",
      "chunk 188 done.\n",
      "chunk 189 done.\n",
      "chunk 190 done.\n",
      "chunk 191 done.\n",
      "chunk 192 done.\n",
      "chunk 193 done.\n",
      "chunk 194 done.\n",
      "chunk 195 done.\n",
      "chunk 196 done.\n",
      "chunk 197 done.\n",
      "chunk 198 done.\n",
      "chunk 199 done.\n",
      "chunk 200 done.\n",
      "chunk 201 done.\n",
      "chunk 202 done.\n",
      "chunk 203 done.\n",
      "chunk 204 done.\n",
      "chunk 205 done.\n",
      "chunk 206 done.\n",
      "chunk 207 done.\n",
      "chunk 208 done.\n",
      "chunk 209 done.\n",
      "chunk 210 done.\n",
      "chunk 211 done.\n",
      "chunk 212 done.\n",
      "chunk 213 done.\n",
      "chunk 214 done.\n",
      "chunk 215 done.\n",
      "chunk 216 done.\n",
      "chunk 217 done.\n",
      "chunk 218 done.\n",
      "chunk 219 done.\n",
      "chunk 220 done.\n",
      "chunk 221 done.\n",
      "chunk 222 done.\n",
      "chunk 223 done.\n",
      "chunk 224 done.\n",
      "chunk 225 done.\n",
      "chunk 226 done.\n",
      "chunk 227 done.\n",
      "chunk 228 done.\n",
      "chunk 229 done.\n",
      "chunk 230 done.\n",
      "chunk 231 done.\n",
      "chunk 232 done.\n",
      "chunk 233 done.\n"
     ]
    }
   ],
   "source": [
    "import os\n",
    "import sys\n",
    "import timeit\n",
    "import pandas as pd\n",
    "\n",
    "start_time = timeit.default_timer()\n",
    "\n",
    "'''\n",
    "generation of new data sets:\n",
    "    df_act_34 = {<time, user_id, item_id, behavior_type = 3 or 4 >}\n",
    "here we write .csv file multi-step to handle the large scale data.\n",
    "'''\n",
    "\n",
    "batch = 0\n",
    "dateparse = lambda dates: pd.datetime.strptime(dates, '%Y-%m-%d %H')\n",
    "for df in pd.read_csv(open(user_path, 'r'), \n",
    "                      chunksize=100000): \n",
    "    try:\n",
    "        df_act_34 = df[df['behavior_type'].isin([3,4])]     \n",
    "        df_act_34.to_csv('/Users/DanDan/Desktop/第一课/code/fresh_comp_offline/act_34.csv',\n",
    "                         columns=['time','user_id','item_id','behavior_type'],\n",
    "                         index=False, header=False,\n",
    "                         mode = 'a')\n",
    "        batch += 1\n",
    "        print('chunk %d done.' %batch) \n",
    "        \n",
    "    except StopIteration:\n",
    "        print(\"finish.\")\n",
    "        break "
   ]
  },
  {
   "cell_type": "markdown",
   "metadata": {},
   "source": [
    "generate datasets"
   ]
  },
  {
   "cell_type": "code",
   "execution_count": 6,
   "metadata": {},
   "outputs": [
    {
     "name": "stdout",
     "output_type": "stream",
     "text": [
      "<class 'pandas.core.frame.DataFrame'>\n",
      "Int64Index: 3834 entries, 23200000 to 23290546\n",
      "Data columns (total 6 columns):\n",
      " #   Column         Non-Null Count  Dtype         \n",
      "---  ------         --------------  -----         \n",
      " 0   user_id        3834 non-null   int64         \n",
      " 1   item_id        3834 non-null   int64         \n",
      " 2   behavior_type  3834 non-null   int64         \n",
      " 3   user_geohash   771 non-null    object        \n",
      " 4   item_category  3834 non-null   int64         \n",
      " 5   time           3834 non-null   datetime64[ns]\n",
      "dtypes: datetime64[ns](1), int64(4), object(1)\n",
      "memory usage: 209.7+ KB\n"
     ]
    }
   ],
   "source": [
    "df_act_34.info()"
   ]
  },
  {
   "cell_type": "code",
   "execution_count": 5,
   "metadata": {},
   "outputs": [
    {
     "name": "stderr",
     "output_type": "stream",
     "text": [
      "/opt/anaconda3/lib/python3.8/site-packages/pandas/core/generic.py:5516: SettingWithCopyWarning: \n",
      "A value is trying to be set on a copy of a slice from a DataFrame.\n",
      "Try using .loc[row_indexer,col_indexer] = value instead\n",
      "\n",
      "See the caveats in the documentation: https://pandas.pydata.org/pandas-docs/stable/user_guide/indexing.html#returning-a-view-versus-a-copy\n",
      "  self[name] = value\n"
     ]
    }
   ],
   "source": [
    "df_act_34.time = pd.to_datetime(df_act_34.time, format='%Y-%m-%d %H')"
   ]
  },
  {
   "cell_type": "code",
   "execution_count": 7,
   "metadata": {},
   "outputs": [],
   "source": [
    "df_act_34 = df_act_34.drop_duplicates(['user_id','item_id','behavior_type']) "
   ]
  },
  {
   "cell_type": "code",
   "execution_count": 9,
   "metadata": {},
   "outputs": [
    {
     "data": {
      "text/html": [
       "<div>\n",
       "<style scoped>\n",
       "    .dataframe tbody tr th:only-of-type {\n",
       "        vertical-align: middle;\n",
       "    }\n",
       "\n",
       "    .dataframe tbody tr th {\n",
       "        vertical-align: top;\n",
       "    }\n",
       "\n",
       "    .dataframe thead th {\n",
       "        text-align: right;\n",
       "    }\n",
       "</style>\n",
       "<table border=\"1\" class=\"dataframe\">\n",
       "  <thead>\n",
       "    <tr style=\"text-align: right;\">\n",
       "      <th></th>\n",
       "      <th>user_id</th>\n",
       "      <th>item_id</th>\n",
       "      <th>behavior_type</th>\n",
       "      <th>user_geohash</th>\n",
       "      <th>item_category</th>\n",
       "      <th>time</th>\n",
       "    </tr>\n",
       "  </thead>\n",
       "  <tbody>\n",
       "    <tr>\n",
       "      <th>23200000</th>\n",
       "      <td>64357551</td>\n",
       "      <td>55214220</td>\n",
       "      <td>4</td>\n",
       "      <td>NaN</td>\n",
       "      <td>4561</td>\n",
       "      <td>2014-12-04 13:00:00</td>\n",
       "    </tr>\n",
       "    <tr>\n",
       "      <th>23200011</th>\n",
       "      <td>64357551</td>\n",
       "      <td>99730977</td>\n",
       "      <td>3</td>\n",
       "      <td>NaN</td>\n",
       "      <td>10431</td>\n",
       "      <td>2014-11-29 14:00:00</td>\n",
       "    </tr>\n",
       "    <tr>\n",
       "      <th>23200020</th>\n",
       "      <td>64357551</td>\n",
       "      <td>65084559</td>\n",
       "      <td>3</td>\n",
       "      <td>NaN</td>\n",
       "      <td>10431</td>\n",
       "      <td>2014-11-28 23:00:00</td>\n",
       "    </tr>\n",
       "    <tr>\n",
       "      <th>23200026</th>\n",
       "      <td>64357551</td>\n",
       "      <td>239918195</td>\n",
       "      <td>4</td>\n",
       "      <td>NaN</td>\n",
       "      <td>10015</td>\n",
       "      <td>2014-12-15 14:00:00</td>\n",
       "    </tr>\n",
       "    <tr>\n",
       "      <th>23200028</th>\n",
       "      <td>64357551</td>\n",
       "      <td>332206396</td>\n",
       "      <td>3</td>\n",
       "      <td>NaN</td>\n",
       "      <td>10431</td>\n",
       "      <td>2014-11-29 23:00:00</td>\n",
       "    </tr>\n",
       "  </tbody>\n",
       "</table>\n",
       "</div>"
      ],
      "text/plain": [
       "           user_id    item_id  behavior_type user_geohash  item_category  \\\n",
       "23200000  64357551   55214220              4          NaN           4561   \n",
       "23200011  64357551   99730977              3          NaN          10431   \n",
       "23200020  64357551   65084559              3          NaN          10431   \n",
       "23200026  64357551  239918195              4          NaN          10015   \n",
       "23200028  64357551  332206396              3          NaN          10431   \n",
       "\n",
       "                        time  \n",
       "23200000 2014-12-04 13:00:00  \n",
       "23200011 2014-11-29 14:00:00  \n",
       "23200020 2014-11-28 23:00:00  \n",
       "23200026 2014-12-15 14:00:00  \n",
       "23200028 2014-11-29 23:00:00  "
      ]
     },
     "execution_count": 9,
     "metadata": {},
     "output_type": "execute_result"
    }
   ],
   "source": [
    "df_act_34.head()"
   ]
  },
  {
   "cell_type": "code",
   "execution_count": 10,
   "metadata": {},
   "outputs": [],
   "source": [
    "df_time_3 = df_act_34[df_act_34['behavior_type'].isin([3])][['user_id','item_id','time']]\n",
    "df_time_4 = df_act_34[df_act_34['behavior_type'].isin([4])][['user_id','item_id','time']]"
   ]
  },
  {
   "cell_type": "code",
   "execution_count": 11,
   "metadata": {},
   "outputs": [
    {
     "data": {
      "text/html": [
       "<div>\n",
       "<style scoped>\n",
       "    .dataframe tbody tr th:only-of-type {\n",
       "        vertical-align: middle;\n",
       "    }\n",
       "\n",
       "    .dataframe tbody tr th {\n",
       "        vertical-align: top;\n",
       "    }\n",
       "\n",
       "    .dataframe thead th {\n",
       "        text-align: right;\n",
       "    }\n",
       "</style>\n",
       "<table border=\"1\" class=\"dataframe\">\n",
       "  <thead>\n",
       "    <tr style=\"text-align: right;\">\n",
       "      <th></th>\n",
       "      <th>user_id</th>\n",
       "      <th>item_id</th>\n",
       "      <th>time</th>\n",
       "    </tr>\n",
       "  </thead>\n",
       "  <tbody>\n",
       "    <tr>\n",
       "      <th>23200011</th>\n",
       "      <td>64357551</td>\n",
       "      <td>99730977</td>\n",
       "      <td>2014-11-29 14:00:00</td>\n",
       "    </tr>\n",
       "    <tr>\n",
       "      <th>23200020</th>\n",
       "      <td>64357551</td>\n",
       "      <td>65084559</td>\n",
       "      <td>2014-11-28 23:00:00</td>\n",
       "    </tr>\n",
       "    <tr>\n",
       "      <th>23200028</th>\n",
       "      <td>64357551</td>\n",
       "      <td>332206396</td>\n",
       "      <td>2014-11-29 23:00:00</td>\n",
       "    </tr>\n",
       "    <tr>\n",
       "      <th>23200059</th>\n",
       "      <td>64357551</td>\n",
       "      <td>376402730</td>\n",
       "      <td>2014-12-13 01:00:00</td>\n",
       "    </tr>\n",
       "    <tr>\n",
       "      <th>23200071</th>\n",
       "      <td>64357551</td>\n",
       "      <td>371658412</td>\n",
       "      <td>2014-12-12 12:00:00</td>\n",
       "    </tr>\n",
       "  </tbody>\n",
       "</table>\n",
       "</div>"
      ],
      "text/plain": [
       "           user_id    item_id                time\n",
       "23200011  64357551   99730977 2014-11-29 14:00:00\n",
       "23200020  64357551   65084559 2014-11-28 23:00:00\n",
       "23200028  64357551  332206396 2014-11-29 23:00:00\n",
       "23200059  64357551  376402730 2014-12-13 01:00:00\n",
       "23200071  64357551  371658412 2014-12-12 12:00:00"
      ]
     },
     "execution_count": 11,
     "metadata": {},
     "output_type": "execute_result"
    }
   ],
   "source": [
    "df_time_3.head()"
   ]
  },
  {
   "cell_type": "code",
   "execution_count": 12,
   "metadata": {},
   "outputs": [],
   "source": [
    "df_time_3.columns = ['user_id', 'item_id', 'time3']\n",
    "df_time_4.columns = ['user_id','item_id', 'time4']"
   ]
  },
  {
   "cell_type": "code",
   "execution_count": 13,
   "metadata": {},
   "outputs": [],
   "source": [
    "del df_act_34  # to save memory"
   ]
  },
  {
   "cell_type": "code",
   "execution_count": 15,
   "metadata": {},
   "outputs": [],
   "source": [
    "df_time = pd.merge(df_time_3,df_time_4,on=['user_id','item_id'],how='outer')"
   ]
  },
  {
   "cell_type": "code",
   "execution_count": 16,
   "metadata": {},
   "outputs": [
    {
     "data": {
      "text/html": [
       "<div>\n",
       "<style scoped>\n",
       "    .dataframe tbody tr th:only-of-type {\n",
       "        vertical-align: middle;\n",
       "    }\n",
       "\n",
       "    .dataframe tbody tr th {\n",
       "        vertical-align: top;\n",
       "    }\n",
       "\n",
       "    .dataframe thead th {\n",
       "        text-align: right;\n",
       "    }\n",
       "</style>\n",
       "<table border=\"1\" class=\"dataframe\">\n",
       "  <thead>\n",
       "    <tr style=\"text-align: right;\">\n",
       "      <th></th>\n",
       "      <th>user_id</th>\n",
       "      <th>item_id</th>\n",
       "      <th>time3</th>\n",
       "      <th>time4</th>\n",
       "    </tr>\n",
       "  </thead>\n",
       "  <tbody>\n",
       "    <tr>\n",
       "      <th>0</th>\n",
       "      <td>64357551</td>\n",
       "      <td>99730977</td>\n",
       "      <td>2014-11-29 14:00:00</td>\n",
       "      <td>NaT</td>\n",
       "    </tr>\n",
       "    <tr>\n",
       "      <th>1</th>\n",
       "      <td>64357551</td>\n",
       "      <td>65084559</td>\n",
       "      <td>2014-11-28 23:00:00</td>\n",
       "      <td>NaT</td>\n",
       "    </tr>\n",
       "    <tr>\n",
       "      <th>2</th>\n",
       "      <td>64357551</td>\n",
       "      <td>332206396</td>\n",
       "      <td>2014-11-29 23:00:00</td>\n",
       "      <td>NaT</td>\n",
       "    </tr>\n",
       "    <tr>\n",
       "      <th>3</th>\n",
       "      <td>64357551</td>\n",
       "      <td>376402730</td>\n",
       "      <td>2014-12-13 01:00:00</td>\n",
       "      <td>NaT</td>\n",
       "    </tr>\n",
       "    <tr>\n",
       "      <th>4</th>\n",
       "      <td>64357551</td>\n",
       "      <td>371658412</td>\n",
       "      <td>2014-12-12 12:00:00</td>\n",
       "      <td>2014-12-12 12:00:00</td>\n",
       "    </tr>\n",
       "  </tbody>\n",
       "</table>\n",
       "</div>"
      ],
      "text/plain": [
       "    user_id    item_id               time3               time4\n",
       "0  64357551   99730977 2014-11-29 14:00:00                 NaT\n",
       "1  64357551   65084559 2014-11-28 23:00:00                 NaT\n",
       "2  64357551  332206396 2014-11-29 23:00:00                 NaT\n",
       "3  64357551  376402730 2014-12-13 01:00:00                 NaT\n",
       "4  64357551  371658412 2014-12-12 12:00:00 2014-12-12 12:00:00"
      ]
     },
     "execution_count": 16,
     "metadata": {},
     "output_type": "execute_result"
    }
   ],
   "source": [
    "df_time.head()"
   ]
  },
  {
   "cell_type": "code",
   "execution_count": 17,
   "metadata": {},
   "outputs": [],
   "source": [
    "df_time_34 = df_time.dropna()"
   ]
  },
  {
   "cell_type": "code",
   "execution_count": 18,
   "metadata": {},
   "outputs": [],
   "source": [
    "df_time_3 = df_time[df_time['time4'].isnull()].drop(['time4'], axis=1)"
   ]
  },
  {
   "cell_type": "code",
   "execution_count": 19,
   "metadata": {},
   "outputs": [],
   "source": [
    "df_time_3 = df_time_3.dropna()"
   ]
  },
  {
   "cell_type": "code",
   "execution_count": 20,
   "metadata": {},
   "outputs": [
    {
     "data": {
      "text/html": [
       "<div>\n",
       "<style scoped>\n",
       "    .dataframe tbody tr th:only-of-type {\n",
       "        vertical-align: middle;\n",
       "    }\n",
       "\n",
       "    .dataframe tbody tr th {\n",
       "        vertical-align: top;\n",
       "    }\n",
       "\n",
       "    .dataframe thead th {\n",
       "        text-align: right;\n",
       "    }\n",
       "</style>\n",
       "<table border=\"1\" class=\"dataframe\">\n",
       "  <thead>\n",
       "    <tr style=\"text-align: right;\">\n",
       "      <th></th>\n",
       "      <th>user_id</th>\n",
       "      <th>item_id</th>\n",
       "      <th>time3</th>\n",
       "      <th>time4</th>\n",
       "    </tr>\n",
       "  </thead>\n",
       "  <tbody>\n",
       "    <tr>\n",
       "      <th>4</th>\n",
       "      <td>64357551</td>\n",
       "      <td>371658412</td>\n",
       "      <td>2014-12-12 12:00:00</td>\n",
       "      <td>2014-12-12 12:00:00</td>\n",
       "    </tr>\n",
       "    <tr>\n",
       "      <th>5</th>\n",
       "      <td>64357551</td>\n",
       "      <td>75214044</td>\n",
       "      <td>2014-12-15 12:00:00</td>\n",
       "      <td>2014-12-15 12:00:00</td>\n",
       "    </tr>\n",
       "    <tr>\n",
       "      <th>17</th>\n",
       "      <td>64377777</td>\n",
       "      <td>38767010</td>\n",
       "      <td>2014-11-20 21:00:00</td>\n",
       "      <td>2014-11-29 20:00:00</td>\n",
       "    </tr>\n",
       "    <tr>\n",
       "      <th>20</th>\n",
       "      <td>64377777</td>\n",
       "      <td>378421486</td>\n",
       "      <td>2014-12-10 12:00:00</td>\n",
       "      <td>2014-12-10 12:00:00</td>\n",
       "    </tr>\n",
       "    <tr>\n",
       "      <th>28</th>\n",
       "      <td>64377777</td>\n",
       "      <td>110126975</td>\n",
       "      <td>2014-12-11 19:00:00</td>\n",
       "      <td>2014-12-11 19:00:00</td>\n",
       "    </tr>\n",
       "  </tbody>\n",
       "</table>\n",
       "</div>"
      ],
      "text/plain": [
       "     user_id    item_id               time3               time4\n",
       "4   64357551  371658412 2014-12-12 12:00:00 2014-12-12 12:00:00\n",
       "5   64357551   75214044 2014-12-15 12:00:00 2014-12-15 12:00:00\n",
       "17  64377777   38767010 2014-11-20 21:00:00 2014-11-29 20:00:00\n",
       "20  64377777  378421486 2014-12-10 12:00:00 2014-12-10 12:00:00\n",
       "28  64377777  110126975 2014-12-11 19:00:00 2014-12-11 19:00:00"
      ]
     },
     "execution_count": 20,
     "metadata": {},
     "output_type": "execute_result"
    }
   ],
   "source": [
    "df_time_34.head()"
   ]
  },
  {
   "cell_type": "code",
   "execution_count": 21,
   "metadata": {},
   "outputs": [
    {
     "data": {
      "text/html": [
       "<div>\n",
       "<style scoped>\n",
       "    .dataframe tbody tr th:only-of-type {\n",
       "        vertical-align: middle;\n",
       "    }\n",
       "\n",
       "    .dataframe tbody tr th {\n",
       "        vertical-align: top;\n",
       "    }\n",
       "\n",
       "    .dataframe thead th {\n",
       "        text-align: right;\n",
       "    }\n",
       "</style>\n",
       "<table border=\"1\" class=\"dataframe\">\n",
       "  <thead>\n",
       "    <tr style=\"text-align: right;\">\n",
       "      <th></th>\n",
       "      <th>user_id</th>\n",
       "      <th>item_id</th>\n",
       "      <th>time3</th>\n",
       "    </tr>\n",
       "  </thead>\n",
       "  <tbody>\n",
       "    <tr>\n",
       "      <th>0</th>\n",
       "      <td>64357551</td>\n",
       "      <td>99730977</td>\n",
       "      <td>2014-11-29 14:00:00</td>\n",
       "    </tr>\n",
       "    <tr>\n",
       "      <th>1</th>\n",
       "      <td>64357551</td>\n",
       "      <td>65084559</td>\n",
       "      <td>2014-11-28 23:00:00</td>\n",
       "    </tr>\n",
       "    <tr>\n",
       "      <th>2</th>\n",
       "      <td>64357551</td>\n",
       "      <td>332206396</td>\n",
       "      <td>2014-11-29 23:00:00</td>\n",
       "    </tr>\n",
       "    <tr>\n",
       "      <th>3</th>\n",
       "      <td>64357551</td>\n",
       "      <td>376402730</td>\n",
       "      <td>2014-12-13 01:00:00</td>\n",
       "    </tr>\n",
       "    <tr>\n",
       "      <th>6</th>\n",
       "      <td>64357551</td>\n",
       "      <td>21882301</td>\n",
       "      <td>2014-11-28 23:00:00</td>\n",
       "    </tr>\n",
       "  </tbody>\n",
       "</table>\n",
       "</div>"
      ],
      "text/plain": [
       "    user_id    item_id               time3\n",
       "0  64357551   99730977 2014-11-29 14:00:00\n",
       "1  64357551   65084559 2014-11-28 23:00:00\n",
       "2  64357551  332206396 2014-11-29 23:00:00\n",
       "3  64357551  376402730 2014-12-13 01:00:00\n",
       "6  64357551   21882301 2014-11-28 23:00:00"
      ]
     },
     "execution_count": 21,
     "metadata": {},
     "output_type": "execute_result"
    }
   ],
   "source": [
    "df_time_3.head()"
   ]
  },
  {
   "cell_type": "code",
   "execution_count": 22,
   "metadata": {},
   "outputs": [],
   "source": [
    "df_time_3.to_csv('/Users/DanDan/Desktop/第一课/code/fresh_comp_offline/time_3.csv',\n",
    "                  columns=['user_id','item_id','time3'],\n",
    "                  index=False)\n",
    "\n",
    "# save middle data set\n",
    "df_time_34.to_csv('/Users/DanDan/Desktop/第一课/code/fresh_comp_offline/time_34.csv',\n",
    "                  columns=['user_id','item_id','time3', 'time4'],\n",
    "                  index=False)"
   ]
  },
  {
   "cell_type": "markdown",
   "metadata": {},
   "source": [
    "Data Viz"
   ]
  },
  {
   "cell_type": "code",
   "execution_count": 23,
   "metadata": {},
   "outputs": [
    {
     "data": {
      "text/plain": [
       "4      2014-12-12 12:00:00\n",
       "5      2014-12-15 12:00:00\n",
       "17     2014-11-20 21:00:00\n",
       "20     2014-12-10 12:00:00\n",
       "28     2014-12-11 19:00:00\n",
       "               ...        \n",
       "2017   2014-11-30 16:00:00\n",
       "2019   2014-11-30 16:00:00\n",
       "2021   2014-11-19 19:00:00\n",
       "2025   2014-11-30 16:00:00\n",
       "2027   2014-11-23 19:00:00\n",
       "Name: time3, Length: 588, dtype: datetime64[ns]"
      ]
     },
     "execution_count": 23,
     "metadata": {},
     "output_type": "execute_result"
    }
   ],
   "source": [
    "df_time_34['time3']"
   ]
  },
  {
   "cell_type": "code",
   "execution_count": 25,
   "metadata": {},
   "outputs": [
    {
     "data": {
      "text/plain": [
       "4      0 days 00:00:00\n",
       "5      0 days 00:00:00\n",
       "17     8 days 23:00:00\n",
       "20     0 days 00:00:00\n",
       "28     0 days 00:00:00\n",
       "             ...      \n",
       "2017   0 days 00:00:00\n",
       "2019   0 days 01:00:00\n",
       "2021   1 days 14:00:00\n",
       "2025   0 days 00:00:00\n",
       "2027   6 days 21:00:00\n",
       "Length: 588, dtype: timedelta64[ns]"
      ]
     },
     "execution_count": 25,
     "metadata": {},
     "output_type": "execute_result"
    }
   ],
   "source": [
    "df_time_34['time4'] - df_time_34['time3']"
   ]
  },
  {
   "cell_type": "code",
   "execution_count": 27,
   "metadata": {},
   "outputs": [
    {
     "data": {
      "image/png": "[encoded data removed]",
      "text/plain": [
       "<Figure size 432x288 with 1 Axes>"
      ]
     },
     "metadata": {
      "needs_background": "light"
     },
     "output_type": "display_data"
    }
   ],
   "source": [
    "'''\n",
    "for decay time calculation and visualization \n",
    "'''\n",
    "data_file = open('/Users/DanDan/Desktop/第一课/code/fresh_comp_offline/time_34.csv', 'r')\n",
    "try:\n",
    "    df_time_34 = pd.read_csv(data_file, \n",
    "                             parse_dates = ['time3', 'time4'],\n",
    "                             index_col = False)\n",
    "finally:\n",
    "    data_file.close()\n",
    "    \n",
    "delta_time = df_time_34['time4']-df_time_34['time3']\n",
    "delta_hour = [] \n",
    "for i in range(len(delta_time)):\n",
    "    d_hour = delta_time[i].days*24+delta_time[i]._h\n",
    "    if d_hour < 0: continue     # clean invalid result\n",
    "    else: delta_hour.append(d_hour)\n",
    "\n",
    "# draw the histogram of delta_hour\n",
    "import matplotlib.pyplot as plt\n",
    "f1 = plt.figure(1)\n",
    "plt.hist(delta_hour, 30)\n",
    "plt.xlabel('hours')\n",
    "plt.ylabel('count')\n",
    "plt.title('time decay for shopping trolley to buy 1')\n",
    "plt.grid(True)\n",
    "plt.show()\n"
   ]
  },
  {
   "cell_type": "markdown",
   "metadata": {},
   "source": [
    "## 3.Prediction"
   ]
  },
  {
   "cell_type": "code",
   "execution_count": 29,
   "metadata": {},
   "outputs": [
    {
     "name": "stderr",
     "output_type": "stream",
     "text": [
      "The code for file tianchi_fresh_comp_train_item.csv ran for 16.30m\n"
     ]
    }
   ],
   "source": [
    "data_file = open('/Users/DanDan/Desktop/第一课/code/fresh_comp_offline/time_3.csv', 'r')\n",
    "try:\n",
    "    df_time_3 = pd.read_csv(data_file, \n",
    "                            parse_dates = ['time3'],\n",
    "                            index_col = ['time3'])\n",
    "finally:\n",
    "    data_file.close()\n",
    "    \n",
    "ui_pred = df_time_3.loc['2014-12-18']  \n",
    "\n",
    "# generate from P\n",
    "data_file = open(item_path, 'r')\n",
    "try:\n",
    "    df_item = pd.read_csv(data_file,index_col = False)\n",
    "finally:\n",
    "    data_file.close()\n",
    "\n",
    "ui_pred_in_P = pd.merge(ui_pred,df_item,on = ['item_id'])  \n",
    "\n",
    "# user_id - item_id to csv file\n",
    "ui_pred_in_P.to_csv('/Users/DanDan/Desktop/第一课/code/fresh_comp_offline/tianchi_mobile_recommendation_predict.csv',\n",
    "                    columns=['user_id','item_id'],\n",
    "                    index=False)\n",
    "\n",
    "end_time = timeit.default_timer()\n",
    "print(('The code for file ' + os.path.split(item_path)[1] +\n",
    "       ' ran for %.2fm' % ((end_time - start_time) / 60.)), file = sys.stderr)"
   ]
  },
  {
   "cell_type": "markdown",
   "metadata": {},
   "source": [
    "## 4. Tianchi Submission"
   ]
  },
  {
   "cell_type": "markdown",
   "metadata": {},
   "source": [
    "提交文件 tianchi_mobile_recommendation_predict.csv 到天池比赛的网站\n",
    "\n",
    "https://tianchi.aliyun.com/competition/entrance/231522/introduction\n",
    "\n",
    "需要登录\n",
    "\n",
    "\n",
    "\n",
    "之后可以看到还可以的分数"
   ]
  }
 ],
 "metadata": {
  "kernelspec": {
   "display_name": "Python 3 (ipykernel)",
   "language": "python",
   "name": "python3"
  },
  "language_info": {
   "codemirror_mode": {
    "name": "ipython",
    "version": 3
   },
   "file_extension": ".py",
   "mimetype": "text/x-python",
   "name": "python",
   "nbconvert_exporter": "python",
   "pygments_lexer": "ipython3",
   "version": "3.8.8"
  }
 },
 "nbformat": 4,
 "nbformat_minor": 4
}
